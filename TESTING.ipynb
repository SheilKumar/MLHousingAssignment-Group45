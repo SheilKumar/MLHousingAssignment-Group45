{
 "cells": [
  {
   "cell_type": "code",
   "execution_count": 1,
   "id": "f2e6fda6",
   "metadata": {},
   "outputs": [],
   "source": [
    "import pandas as pd\n",
    "import numpy as np\n",
    "import matplotlib.pyplot as plt\n",
    "from sklearn.model_selection import KFold\n",
    "from sklearn.neighbors import KNeighborsRegressor\n",
    "from sklearn.metrics import accuracy_score,mean_squared_error ,r2_score\n",
    "from sklearn.metrics import roc_curve\n",
    "from sklearn.model_selection import cross_val_score\n",
    "from sklearn.model_selection import train_test_split"
   ]
  },
  {
   "cell_type": "code",
   "execution_count": null,
   "id": "1e9d00b4",
   "metadata": {},
   "outputs": [],
   "source": []
  },
  {
   "cell_type": "code",
   "execution_count": 2,
   "id": "1e79832c",
   "metadata": {},
   "outputs": [],
   "source": [
    "df =pd.read_csv(\"House.csv\")\n",
    "df.columns= ['price','lattitude','longitude','bedrooms','bathrooms','area']\n",
    "\n",
    "latitude=df.iloc[:,1]\n",
    "longitude=df.iloc[:,2]\n",
    "bedrooms = df.iloc[:,3] ## bedrooms\n",
    "bathrooms = df.iloc[:,4] ## bathrooms\n",
    "area = df.iloc[:,5] ## area m2\n",
    "price= np.array(df.iloc[:,0])\n",
    "features= np.column_stack((latitude,longitude,bedrooms,bathrooms,area))\n"
   ]
  },
  {
   "cell_type": "code",
   "execution_count": 4,
   "id": "56f8c838",
   "metadata": {},
   "outputs": [
    {
     "ename": "IndentationError",
     "evalue": "unindent does not match any outer indentation level (<tokenize>, line 10)",
     "output_type": "error",
     "traceback": [
      "\u001b[0;36m  File \u001b[0;32m\"<tokenize>\"\u001b[0;36m, line \u001b[0;32m10\u001b[0m\n\u001b[0;31m    for train,test in kf.split(features):\u001b[0m\n\u001b[0m    ^\u001b[0m\n\u001b[0;31mIndentationError\u001b[0m\u001b[0;31m:\u001b[0m unindent does not match any outer indentation level\n"
     ]
    }
   ],
   "source": []
  },
  {
   "cell_type": "code",
   "execution_count": 5,
   "id": "a987eeef",
   "metadata": {},
   "outputs": [
    {
     "name": "stdout",
     "output_type": "stream",
     "text": [
      "109828475910.8489\n",
      "82843771382.87915\n",
      "k : 1 MSE : 174730733424.18658 std 111482542471.6343\n",
      "k : 2 MSE : 145889569112.43982 std 98734713168.5223\n",
      "k : 3 MSE : 127325085989.36801 std 84692618492.7454\n",
      "k : 4 MSE : 123465398380.8332 std 82843771382.87915\n",
      "k : 5 MSE : 114952484929.54854 std 84977408975.31601\n",
      "k : 6 MSE : 109828475910.8489 std 84027699518.25743\n",
      "k : 7 MSE : 110914740497.34859 std 88869686551.27605\n",
      "k : 8 MSE : 111764685169.33614 std 89116953158.15434\n",
      "k : 9 MSE : 114037555092.4707 std 92264418689.80309\n",
      "k : 10 MSE : 115711524325.45544 std 94337358539.33759\n",
      "k : 11 MSE : 115980496786.9075 std 95645719614.21382\n",
      "k : 12 MSE : 114713541301.39624 std 95698727608.10829\n",
      "k : 13 MSE : 113766810776.0542 std 96721866600.83911\n",
      "k : 14 MSE : 112835734011.57803 std 96041684301.607\n",
      "k : 15 MSE : 114114621593.81865 std 98292382078.59018\n",
      "k : 16 MSE : 114691801741.48715 std 99505020260.80696\n",
      "k : 17 MSE : 114896860373.33139 std 99858196560.18182\n",
      "k : 18 MSE : 115799512541.38571 std 99996874707.27415\n",
      "k : 19 MSE : 116455244224.34798 std 101523425267.48543\n",
      "k : 20 MSE : 117036971239.27304 std 103228644518.74036\n",
      "k : 21 MSE : 117760643522.7642 std 104178625552.45262\n",
      "k : 22 MSE : 118210237140.7008 std 104470513792.28838\n",
      "k : 23 MSE : 119260393841.00655 std 105260831449.02333\n",
      "k : 24 MSE : 120250191883.15813 std 106433432941.49512\n",
      "k : 25 MSE : 121313979733.52727 std 107722308912.94196\n",
      "k : 26 MSE : 122395506378.9681 std 109315188813.51382\n",
      "k : 27 MSE : 123242362280.85156 std 110376297932.07727\n",
      "k : 28 MSE : 124092249820.64302 std 111839081980.67732\n",
      "k : 29 MSE : 124587077909.67374 std 112444715690.60051\n",
      "k : 30 MSE : 125159566688.08096 std 112767295075.54938\n",
      "k : 31 MSE : 125820006889.90959 std 114134681597.88705\n",
      "k : 32 MSE : 126156595972.04597 std 114669317314.12827\n",
      "k : 33 MSE : 126926233158.15112 std 115336927711.33542\n",
      "k : 34 MSE : 127418069307.93408 std 115910418332.38083\n",
      "k : 35 MSE : 127936952985.9271 std 116880343592.54594\n",
      "k : 36 MSE : 128283096570.06079 std 117619373180.41992\n",
      "k : 37 MSE : 128979419594.71516 std 118203207547.89977\n",
      "k : 38 MSE : 129424892489.54668 std 118877119950.80298\n",
      "k : 39 MSE : 129899927018.69751 std 119365490720.97133\n",
      "k : 40 MSE : 130636319035.38626 std 120204251126.51172\n",
      "k : 41 MSE : 131242943464.53067 std 120404388201.19781\n",
      "k : 42 MSE : 132082896112.86177 std 121200044379.90039\n",
      "k : 43 MSE : 132687508310.44946 std 121915454524.87003\n",
      "k : 44 MSE : 133308602792.15132 std 122728173768.11018\n",
      "k : 45 MSE : 133865151665.49496 std 123026511679.8831\n",
      "k : 46 MSE : 134790305827.30984 std 123767520935.44936\n",
      "k : 47 MSE : 135173494921.48055 std 124123305654.18132\n",
      "k : 48 MSE : 136062305142.46863 std 124838953365.81956\n",
      "k : 49 MSE : 136534974235.64511 std 125153223994.5477\n",
      "k : 50 MSE : 137415613530.0649 std 125971100897.09628\n",
      "k : 51 MSE : 137976799684.5958 std 126224040127.67825\n",
      "k : 52 MSE : 138506783291.76822 std 126499054661.1921\n",
      "k : 53 MSE : 139189693863.53168 std 127075506497.62178\n",
      "k : 54 MSE : 139676505430.0384 std 127475817990.60243\n",
      "k : 55 MSE : 140309168607.64606 std 128078969593.70032\n",
      "k : 56 MSE : 140871287202.43158 std 128670113824.94618\n",
      "k : 57 MSE : 141111942202.39423 std 129160606934.74911\n",
      "k : 58 MSE : 141705045979.0454 std 129783251361.15146\n",
      "k : 59 MSE : 141889518756.8803 std 129623464190.92062\n",
      "k : 60 MSE : 142339799478.53912 std 130179459513.94043\n",
      "k : 61 MSE : 142757741678.53152 std 130474384992.68317\n",
      "k : 62 MSE : 143208870495.3648 std 130759408437.73013\n",
      "k : 63 MSE : 143575494097.07318 std 131308839845.53618\n",
      "k : 64 MSE : 143974235892.77866 std 131488020141.86676\n",
      "k : 65 MSE : 144595113383.69327 std 131887223184.36826\n",
      "k : 66 MSE : 145012774680.37494 std 132392554628.2257\n",
      "k : 67 MSE : 145378607588.04004 std 133109255684.3611\n",
      "k : 68 MSE : 145956244349.0539 std 133613009768.69188\n",
      "k : 69 MSE : 146434753164.71246 std 134111936044.35275\n",
      "k : 70 MSE : 146518634415.41837 std 134353715001.49924\n",
      "k : 71 MSE : 146903089364.96127 std 134622087034.92867\n",
      "k : 72 MSE : 147453024949.18237 std 134981983510.939\n",
      "k : 73 MSE : 147753698073.16138 std 135177878814.6378\n",
      "k : 74 MSE : 148083517342.4035 std 135522795844.30627\n",
      "k : 75 MSE : 148598710767.46454 std 135906025614.48322\n",
      "k : 76 MSE : 149057129114.3585 std 136158800897.93095\n",
      "k : 77 MSE : 149438304929.5476 std 136483736921.25047\n",
      "k : 78 MSE : 149628236593.5739 std 136699134911.84007\n",
      "k : 79 MSE : 150021010031.3471 std 136978039959.11942\n",
      "k : 80 MSE : 150360226174.0536 std 137091911110.41135\n",
      "k : 81 MSE : 150790224744.266 std 137305069358.07797\n",
      "k : 82 MSE : 151152089768.61945 std 137451951109.40872\n",
      "k : 83 MSE : 151391749669.63257 std 137412058306.61751\n",
      "k : 84 MSE : 151947726599.0124 std 137928782291.577\n",
      "k : 85 MSE : 152337556810.62955 std 138145292167.6602\n",
      "k : 86 MSE : 152689987120.00284 std 138365665017.46146\n",
      "k : 87 MSE : 153188686856.15634 std 138732558152.30142\n",
      "k : 88 MSE : 153377886341.8095 std 138593856696.19186\n",
      "k : 89 MSE : 153765273928.26822 std 138973597414.97766\n",
      "k : 90 MSE : 154119454672.24902 std 139267702069.9472\n",
      "k : 91 MSE : 154607230281.9873 std 139586580430.38443\n",
      "k : 92 MSE : 155046836282.97516 std 140000340551.65775\n",
      "k : 93 MSE : 155608412814.69467 std 140455965044.95874\n",
      "k : 94 MSE : 156027816721.13824 std 140803179763.278\n",
      "k : 95 MSE : 156508211201.95013 std 141046715399.87958\n",
      "k : 96 MSE : 157007456051.20486 std 141329478094.57486\n",
      "k : 97 MSE : 157420382833.3847 std 141549446326.09375\n",
      "k : 98 MSE : 157803526609.03134 std 141687830183.55386\n",
      "k : 99 MSE : 158055607291.01505 std 141872323054.281\n",
      "k : 100 MSE : 158100907937.6856 std 141936394695.08777\n"
     ]
    },
    {
     "data": {
      "image/png": "[encoded data removed]",
      "text/plain": [
       "<Figure size 432x288 with 1 Axes>"
      ]
     },
     "metadata": {
      "needs_background": "light"
     },
     "output_type": "display_data"
    }
   ],
   "source": [
    "meanError=[];stdError=[]\n",
    "## FOR WEIGHTS = UNIFORM \n",
    "\n",
    "for k in range(100):\n",
    "    k=k+1\n",
    "    model=KNeighborsRegressor(n_neighbors=k,weights='uniform')\n",
    "    kf=KFold(n_splits=5)\n",
    "    temp=[]\n",
    "    \n",
    "    for train,test in kf.split(features):\n",
    "        model.fit(features[train],price[train])\n",
    "        ypred=model.predict(features[test])\n",
    "        \n",
    "        temp.append(mean_squared_error(price[test],ypred))\n",
    "    meanError.append(np.array(temp).mean())\n",
    "    stdError.append(np.array(temp).std())\n",
    "    \n",
    "plt.errorbar(range(100),meanError,yerr=stdError,fmt=\"-o\",ecolor=\"r\",capsize=5)\n",
    "print(min(meanError))## k : 41 MSE : 91371866501.27591 std 81249346825.26187\n",
    "print(min(stdError)) ##k : 6 MSE : 105122780233.45108 std 76221252228.10388\n",
    "##min is - \n",
    "for k in range(100):\n",
    "    \n",
    "    k=k+1\n",
    "    index=k-1;\n",
    "    print(\"k :\",k,\"MSE :\",meanError[index],\"std\",stdError[index])\n",
    "    \n",
    "    ## for k = 6 \n",
    "    ##k : 6 MSE : 109828475910.8489 std 84027699518.25743\n",
    "        "
   ]
  },
  {
   "cell_type": "code",
   "execution_count": 17,
   "id": "a0bef900",
   "metadata": {},
   "outputs": [
    {
     "name": "stdout",
     "output_type": "stream",
     "text": [
      "109465662073.31052\n",
      "26693062749.089546\n",
      "num folds: 2  MSE : 109742943502.84314 std 26693062749.089546\n",
      "num folds: 3  MSE : 110958717731.25635 std 48712748349.53729\n",
      "num folds: 5  MSE : 109828475910.8489 std 84027699518.25743\n",
      "num folds: 7 MSE : 114207865027.00166 std 114058628821.03963\n",
      "num folds: 10  MSE : 113209289624.89706 std 103660887972.48627\n",
      "num folds: 25  MSE : 109465662073.31052 std 139400973463.5541\n"
     ]
    },
    {
     "data": {
      "image/png": "[encoded data removed]",
      "text/plain": [
       "<Figure size 432x288 with 1 Axes>"
      ]
     },
     "metadata": {
      "needs_background": "light"
     },
     "output_type": "display_data"
    }
   ],
   "source": [
    "meanError=[];stdError=[]\n",
    "numFolds =[2,3,5,7,10,15,25]\n",
    "\n",
    "for k in numFolds:\n",
    "    model=KNeighborsRegressor(n_neighbors=6,weights='uniform')\n",
    "    kf=KFold(n_splits=k)\n",
    "    temp=[]\n",
    "    \n",
    "    for train,test in kf.split(features):\n",
    "        model.fit(features[train],price[train])\n",
    "        ypred=model.predict(features[test])\n",
    "        \n",
    "        temp.append(mean_squared_error(price[test],ypred))\n",
    "    meanError.append(np.array(temp).mean())\n",
    "    stdError.append(np.array(temp).std())\n",
    "    \n",
    "print(min(meanError))\n",
    "print(min(stdError))\n",
    "plt.errorbar(numFolds,meanError,yerr=stdError,fmt=\"-o\",ecolor=\"r\",capsize=5)\n",
    "\n",
    "print(\"num folds: 2  MSE :\",meanError[0],\"std\",stdError[0])\n",
    "print(\"num folds: 3  MSE :\",meanError[1],\"std\",stdError[1])\n",
    "print(\"num folds: 5  MSE :\",meanError[2],\"std\",stdError[2])\n",
    "print(\"num folds: 7 MSE :\",meanError[3],\"std\",stdError[3])\n",
    "print(\"num folds: 10  MSE :\",meanError[4],\"std\",stdError[4])\n",
    "print(\"num folds: 25  MSE :\",meanError[5],\"std\",stdError[5])\n",
    "\n",
    "\n",
    "\n",
    "### minimum for number of folds is at a num folds = 2\n",
    "## training with a small value for"
   ]
  },
  {
   "cell_type": "code",
   "execution_count": null,
   "id": "79dd9d56",
   "metadata": {},
   "outputs": [],
   "source": [
    "## it is evident selecting a small value for the number of folds is optimal as the standard error increases significantly with increasing \n",
    " ## number of folds \n",
    "        \n",
    "        "
   ]
  },
  {
   "cell_type": "code",
   "execution_count": 18,
   "id": "261ddf63",
   "metadata": {},
   "outputs": [
    {
     "name": "stdout",
     "output_type": "stream",
     "text": [
      "91371866501.27591\n",
      "76221252228.10388\n",
      "k : 1 MSE : 174730733424.18658 std 111482542471.6343\n",
      "k : 2 MSE : 145710599772.89786 std 97139819426.8169\n",
      "k : 3 MSE : 123362451797.97908 std 81353061591.94652\n",
      "k : 4 MSE : 118336262015.04086 std 77570733583.5074\n",
      "k : 5 MSE : 110931526418.93697 std 77126755256.24675\n",
      "k : 6 MSE : 105122780233.45108 std 76221252228.10388\n",
      "k : 7 MSE : 104130638358.99536 std 77863387354.5228\n",
      "k : 8 MSE : 102861432204.0638 std 77190222421.75351\n",
      "k : 9 MSE : 101717614217.97684 std 77531293030.91553\n",
      "k : 10 MSE : 103228470349.9625 std 78327726064.43895\n",
      "k : 11 MSE : 102426119256.83202 std 79156824961.87065\n",
      "k : 12 MSE : 100807110131.89578 std 79125962331.25955\n",
      "k : 13 MSE : 98945048318.48099 std 79149343184.9444\n",
      "k : 14 MSE : 97805122513.34169 std 78546019769.7042\n",
      "k : 15 MSE : 97272711185.10135 std 78984402127.65424\n",
      "k : 16 MSE : 97022251967.71674 std 79043178370.89647\n",
      "k : 17 MSE : 96408983979.18668 std 78927656113.52316\n",
      "k : 18 MSE : 95903247082.45015 std 78619434896.94055\n",
      "k : 19 MSE : 95384214366.30386 std 78789465801.91238\n",
      "k : 20 MSE : 94715624975.76738 std 78768029571.60527\n",
      "k : 21 MSE : 94298928965.55692 std 78760761796.62236\n",
      "k : 22 MSE : 93782558566.57129 std 78691170662.00575\n",
      "k : 23 MSE : 93387359223.85672 std 78704053705.42532\n",
      "k : 24 MSE : 93173459992.56699 std 78966420375.97682\n",
      "k : 25 MSE : 93112719671.54436 std 79569053190.04715\n",
      "k : 26 MSE : 92995870657.58858 std 79779003162.72226\n",
      "k : 27 MSE : 92701243732.94553 std 79846112727.58806\n",
      "k : 28 MSE : 92493544969.70451 std 80076278031.09802\n",
      "k : 29 MSE : 92336053912.86113 std 80043820796.3386\n",
      "k : 30 MSE : 92121699736.7052 std 80060598561.04239\n",
      "k : 31 MSE : 92007293315.46896 std 80439949191.80124\n",
      "k : 32 MSE : 91875491929.569 std 80609091316.85808\n",
      "k : 33 MSE : 91711709853.0973 std 80581717035.8565\n",
      "k : 34 MSE : 91720933330.7706 std 80556114384.45473\n",
      "k : 35 MSE : 91561937604.60422 std 80614388309.33606\n",
      "k : 36 MSE : 91456770482.99686 std 80798808342.53906\n",
      "k : 37 MSE : 91431983572.78476 std 80797603475.61584\n",
      "k : 38 MSE : 91401860246.98578 std 80965127218.90135\n",
      "k : 39 MSE : 91383493069.70679 std 81067524486.65024\n",
      "k : 40 MSE : 91393454157.11983 std 81241640696.13046\n",
      "k : 41 MSE : 91371866501.27591 std 81249346825.26187\n",
      "k : 42 MSE : 91472302180.91696 std 81486306686.3258\n",
      "k : 43 MSE : 91468773678.26282 std 81670996858.4773\n",
      "k : 44 MSE : 91485263620.59128 std 81933243299.87044\n",
      "k : 45 MSE : 91487878763.02654 std 81898410079.94406\n",
      "k : 46 MSE : 91667386017.79863 std 82027883375.66226\n",
      "k : 47 MSE : 91686728691.49063 std 82140327717.69293\n",
      "k : 48 MSE : 91833147087.05064 std 82308110916.95125\n",
      "k : 49 MSE : 91885393772.41452 std 82335610278.44202\n",
      "k : 50 MSE : 92049912923.2275 std 82508406883.34673\n",
      "k : 51 MSE : 92166783527.89767 std 82572100219.89586\n",
      "k : 52 MSE : 92196529013.60352 std 82527956243.37473\n",
      "k : 53 MSE : 92357218360.08981 std 82737816116.73622\n",
      "k : 54 MSE : 92460456061.14682 std 82935646111.10536\n",
      "k : 55 MSE : 92554402491.1803 std 83094583275.09317\n",
      "k : 56 MSE : 92649860007.46396 std 83198716542.8248\n",
      "k : 57 MSE : 92705568928.09381 std 83327239738.60655\n",
      "k : 58 MSE : 92796654803.30527 std 83408804560.0791\n",
      "k : 59 MSE : 92803920176.84225 std 83316544756.85718\n",
      "k : 60 MSE : 92899837553.98465 std 83429681511.07947\n",
      "k : 61 MSE : 92976977943.46382 std 83457679762.74902\n",
      "k : 62 MSE : 93129537050.28918 std 83636606101.97354\n",
      "k : 63 MSE : 93196257570.32562 std 83823443962.37213\n",
      "k : 64 MSE : 93258966376.0094 std 83822569476.04555\n",
      "k : 65 MSE : 93401520620.46326 std 83892670641.7227\n",
      "k : 66 MSE : 93516282734.31795 std 84114173048.64384\n",
      "k : 67 MSE : 93621600971.55457 std 84410357558.75903\n",
      "k : 68 MSE : 93765359480.20634 std 84523542772.31505\n",
      "k : 69 MSE : 93862682732.3436 std 84643133496.96402\n",
      "k : 70 MSE : 93895616608.20303 std 84692020270.10501\n",
      "k : 71 MSE : 93993575965.94685 std 84744184186.97755\n",
      "k : 72 MSE : 94089476844.81839 std 84799033424.20158\n",
      "k : 73 MSE : 94142339944.3246 std 84866861348.80765\n",
      "k : 74 MSE : 94232190112.88321 std 84950220155.60486\n",
      "k : 75 MSE : 94350832815.66339 std 85055986306.12993\n",
      "k : 76 MSE : 94487586992.3822 std 85116835177.90242\n",
      "k : 77 MSE : 94578840319.77591 std 85178719544.58853\n",
      "k : 78 MSE : 94627565416.52551 std 85220525534.8912\n",
      "k : 79 MSE : 94764115214.51201 std 85335338628.51523\n",
      "k : 80 MSE : 94867828335.77036 std 85354376211.49245\n",
      "k : 81 MSE : 94976494596.57149 std 85375904314.28952\n",
      "k : 82 MSE : 95093559973.82352 std 85439876745.75859\n",
      "k : 83 MSE : 95188915868.8316 std 85453943146.65239\n",
      "k : 84 MSE : 95362652091.86557 std 85626299658.83086\n",
      "k : 85 MSE : 95491911665.94102 std 85724526793.89282\n",
      "k : 86 MSE : 95604648921.48654 std 85802157355.82156\n",
      "k : 87 MSE : 95759722976.12193 std 85902269289.4749\n",
      "k : 88 MSE : 95882935958.20473 std 85953951421.98286\n",
      "k : 89 MSE : 95988734820.40308 std 86042248087.28511\n",
      "k : 90 MSE : 96095729374.31805 std 86133955776.96516\n",
      "k : 91 MSE : 96207986760.42407 std 86171711472.89601\n",
      "k : 92 MSE : 96306578117.96072 std 86219650924.95134\n",
      "k : 93 MSE : 96463348123.84016 std 86307677342.64032\n",
      "k : 94 MSE : 96588773617.19243 std 86393781796.69476\n",
      "k : 95 MSE : 96715023434.13306 std 86418168143.13582\n",
      "k : 96 MSE : 96890579786.51118 std 86502451696.64142\n",
      "k : 97 MSE : 97002428706.99265 std 86521164001.46286\n",
      "k : 98 MSE : 97125003187.26108 std 86559241150.62401\n",
      "k : 99 MSE : 97214620548.17639 std 86627037776.78926\n",
      "k : 100 MSE : 97282223026.06535 std 86657346045.27556\n"
     ]
    },
    {
     "data": {
      "image/png": "[encoded data removed]",
      "text/plain": [
       "<Figure size 432x288 with 1 Axes>"
      ]
     },
     "metadata": {
      "needs_background": "light"
     },
     "output_type": "display_data"
    }
   ],
   "source": [
    "## closer inspection within range \n",
    "## WEIGHTS ARE DISTANCE \n",
    "\n",
    "meanError=[];stdError=[];yPredicted=[];y=[];\n",
    "kRange = [1,3,5,7,10,15,18,20,25,29,31,37,41,44]\n",
    "\n",
    "\n",
    "\n",
    "\n",
    "for k in range(100):\n",
    "    k=k+1\n",
    "    model=KNeighborsRegressor(n_neighbors=k,weights='distance')\n",
    "    kf=KFold(n_splits=5)\n",
    "    temp=[]\n",
    "    \n",
    "    for train,test in kf.split(features):\n",
    "        model.fit(features[train],price[train])\n",
    "        ypred=model.predict(features[test])\n",
    "        temp.append(mean_squared_error(price[test],ypred))\n",
    "    meanError.append(np.array(temp).mean())\n",
    "    stdError.append(np.array(temp).std())\n",
    "    yPredicted.append(np.array)\n",
    "    \n",
    "plt.errorbar(range(100),meanError,yerr=stdError,fmt=\"-o\",ecolor=\"r\",capsize=5)\n",
    "print(min(meanError))## k : 41 MSE : 91371866501.27591 std 81249346825.26187\n",
    "print(min(stdError)) ##k : 6 MSE : 105122780233.45108 std 76221252228.10388\n",
    "\n",
    "\n",
    "for k in range(100):\n",
    "    k=k+1\n",
    "    index=k-1;\n",
    "    print(\"k :\",k,\"MSE :\",meanError[index],\"std\",stdError[index])\n",
    "    \n",
    "\n"
   ]
  },
  {
   "cell_type": "code",
   "execution_count": null,
   "id": "44157b15",
   "metadata": {},
   "outputs": [],
   "source": [
    "## k : 41 MSE : 91371866501.27591 std 81249346825.26187\n",
    "\n",
    "#k : 6 MSE : 105122780233.45108 std 76221252228.10388\n",
    "\n"
   ]
  },
  {
   "cell_type": "code",
   "execution_count": 20,
   "id": "04ef39d4",
   "metadata": {},
   "outputs": [
    {
     "name": "stdout",
     "output_type": "stream",
     "text": [
      "87857975067.5677\n",
      "37127264000.14281\n",
      "num folds: 2  MSE : 93206321183.47656 std 37127264000.14281\n",
      "num folds: 3  MSE : 95167517343.19206 std 53042890479.78232\n",
      "num folds: 5  MSE : 91371866501.27591 std 81249346825.26187\n",
      "num folds: 7  MSE : 92432755521.57048 std 102075118034.59238\n",
      "num folds: 10  MSE : 91203086966.61081 std 87527445236.01665\n",
      "num folds: 15  MSE : 87964072283.69284 std 129018689909.09985\n",
      "num folds: 25  MSE : 87857975067.5677 std 169500291638.52264\n"
     ]
    },
    {
     "data": {
      "image/png": "[encoded data removed]",
      "text/plain": [
       "<Figure size 432x288 with 1 Axes>"
      ]
     },
     "metadata": {
      "needs_background": "light"
     },
     "output_type": "display_data"
    }
   ],
   "source": [
    "## check optimal k fold\n",
    "\n",
    "meanError=[];stdError=[]\n",
    "numFolds =[2,3,5,7,10,15,25]\n",
    "\n",
    "for k in numFolds:\n",
    "    model=KNeighborsRegressor(n_neighbors=41,weights='distance')\n",
    "    kf=KFold(n_splits=k)\n",
    "    temp=[]\n",
    "    \n",
    "    for train,test in kf.split(features):\n",
    "        model.fit(features[train],price[train])\n",
    "        ypred=model.predict(features[test])\n",
    "        \n",
    "        temp.append(mean_squared_error(price[test],ypred))\n",
    "    meanError.append(np.array(temp).mean())\n",
    "    stdError.append(np.array(temp).std())\n",
    "    \n",
    "print(min(meanError))\n",
    "print(min(stdError))\n",
    "plt.errorbar(numFolds,meanError,yerr=stdError,fmt=\"-o\",ecolor=\"r\",capsize=5)\n",
    "\n",
    "print(\"num folds: 2  MSE :\",meanError[0],\"std\",stdError[0])\n",
    "print(\"num folds: 3  MSE :\",meanError[1],\"std\",stdError[1])\n",
    "print(\"num folds: 5  MSE :\",meanError[2],\"std\",stdError[2])\n",
    "print(\"num folds: 7  MSE :\",meanError[3],\"std\",stdError[3])\n",
    "print(\"num folds: 10  MSE :\",meanError[4],\"std\",stdError[4])\n",
    "print(\"num folds: 15  MSE :\",meanError[5],\"std\",stdError[5])\n",
    "print(\"num folds: 25  MSE :\",meanError[6],\"std\",stdError[6])\n",
    "\n",
    "## evident as the number of k folds increase the standard deviation exponentially increases , thus it is desirable to select a small \n",
    "## value for the number of folds \n"
   ]
  },
  {
   "cell_type": "code",
   "execution_count": null,
   "id": "1260ae2b",
   "metadata": {},
   "outputs": [],
   "source": [
    "## minimum fold of 25 , however this comes with a significant jump in std error \n",
    "##  therefore the next lowest with the smallest std error is with a number of  folds of 50 .\n",
    "## a wide range was selected in order to see the entire range a closer inspection within this range wass then carried out \n",
    "\n",
    "### when the distance parameter is used the points are weighted by inverse of their distance , thus the closer points to\n",
    "##the query will have a greater influence than their neighbours which are further away \n"
   ]
  },
  {
   "cell_type": "code",
   "execution_count": 21,
   "id": "8016fafa",
   "metadata": {},
   "outputs": [
    {
     "name": "stdout",
     "output_type": "stream",
     "text": [
      "87857975067.5677\n",
      "137078958656.08624\n",
      "num folds: 25  MSE : 87857975067.5677 std 169500291638.52264\n",
      "num folds: 30  MSE : 88529059453.42195 std 137078958656.08624\n",
      "num folds: 35  MSE : 88587010076.51659 std 149333562661.9583\n",
      "num folds: 40  MSE : 88635716601.10922 std 157504915386.9952\n",
      "num folds: 45  MSE : 88609459991.57582 std 167391516439.2245\n",
      "num folds: 55  MSE : 88674028606.21532 std 183270518467.29718\n"
     ]
    },
    {
     "data": {
      "image/png": "[encoded data removed]",
      "text/plain": [
       "<Figure size 432x288 with 1 Axes>"
      ]
     },
     "metadata": {
      "needs_background": "light"
     },
     "output_type": "display_data"
    }
   ],
   "source": [
    "meanError=[];stdError=[]\n",
    "numFolds =[25,30,35,40,45,55]\n",
    "\n",
    "for k in numFolds:\n",
    "    model=KNeighborsRegressor(n_neighbors=41,weights='distance')\n",
    "    kf=KFold(n_splits=k)\n",
    "    temp=[]\n",
    "    \n",
    "    for train,test in kf.split(features):\n",
    "        model.fit(features[train],price[train])\n",
    "        ypred=model.predict(features[test])\n",
    "        \n",
    "        temp.append(mean_squared_error(price[test],ypred))\n",
    "    meanError.append(np.array(temp).mean())\n",
    "    stdError.append(np.array(temp).std())\n",
    "    \n",
    "print(min(meanError))\n",
    "print(min(stdError))\n",
    "plt.errorbar(numFolds,meanError,yerr=stdError,fmt=\"-o\",ecolor=\"r\",capsize=5)\n",
    "\n",
    "\n",
    "print(\"num folds: 25  MSE :\",meanError[0],\"std\",stdError[0])\n",
    "print(\"num folds: 30  MSE :\",meanError[1],\"std\",stdError[1])\n",
    "print(\"num folds: 35  MSE :\",meanError[2],\"std\",stdError[2])\n",
    "print(\"num folds: 40  MSE :\",meanError[3],\"std\",stdError[3])\n",
    "print(\"num folds: 45  MSE :\",meanError[4],\"std\",stdError[4])\n",
    "print(\"num folds: 55  MSE :\",meanError[5],\"std\",stdError[5])\n",
    "\n",
    "## ERROR SO HIGH :(())\n"
   ]
  },
  {
   "cell_type": "code",
   "execution_count": 50,
   "id": "1582c57a",
   "metadata": {},
   "outputs": [
    {
     "name": "stdout",
     "output_type": "stream",
     "text": [
      "====================================== BREAK ==================================\n",
      "====================================== BREAK ==================================\n",
      "Value of mse  93206324965.68008\n",
      "Value of r2 score 0.6821336315140185\n"
     ]
    }
   ],
   "source": [
    "## trying to adjust other parameters \n",
    "\n",
    "### BEST MODEL SO FAR \n",
    "## Weight is distance , number of folds =2 , number of neighbours = 41 \n",
    "\n",
    "actualY = []\n",
    "predictedY =[]\n",
    "featuresCollected=[]\n",
    "kf = KFold(n_splits=2)\n",
    "\n",
    "for train,test in kf.split(features):\n",
    "    modelKnn = KNeighborsRegressor(n_neighbors=41,weights='distance').fit(features[train],price[train])\n",
    "    predY= modelKnn.predict(features[test])\n",
    "  #  print(predY)\n",
    "    roundedY = [np.round(y) for y in predY]\n",
    "    print(\"====================================== BREAK ==================================\")\n",
    "   # print(roundedY)\n",
    "    predictedY = predictedY +roundedY\n",
    "    featuresCollected = features[test].tolist() +featuresCollected\n",
    "    actualY =  actualY + price[test].tolist()\n",
    "\n",
    "    ## TEST IT OUT \n",
    "    \n",
    "MSE = mean_squared_error(actualY,predictedY)\n",
    "r2 =r2_score(actualY,predictedY)\n",
    "    \n",
    "print(\"Value of mse \", MSE)\n",
    "print(\"Value of r2 score\",r2 )\n",
    "\n"
   ]
  },
  {
   "cell_type": "code",
   "execution_count": null,
   "id": "e5bb65f6",
   "metadata": {},
   "outputs": [],
   "source": [
    "print(\"BEFORE GRAPH STATEMENT\")\n",
    "fig,ax = plt.subplots()\n",
    "ax.set_title(\"Features versus price\")\n"
   ]
  }
 ],
 "metadata": {
  "kernelspec": {
   "display_name": "Python 3",
   "language": "python",
   "name": "python3"
  },
  "language_info": {
   "codemirror_mode": {
    "name": "ipython",
    "version": 3
   },
   "file_extension": ".py",
   "mimetype": "text/x-python",
   "name": "python",
   "nbconvert_exporter": "python",
   "pygments_lexer": "ipython3",
   "version": "3.6.6"
  }
 },
 "nbformat": 4,
 "nbformat_minor": 5
}
