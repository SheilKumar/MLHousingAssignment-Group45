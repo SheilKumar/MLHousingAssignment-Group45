{
 "cells": [
  {
   "cell_type": "code",
   "execution_count": 199,
   "metadata": {},
   "outputs": [],
   "source": [
    "import pandas as pd\n",
    "import numpy as np\n",
    "from ProjectUtils import LassoClass\n",
    "from ProjectUtils import RidgeClass"
   ]
  },
  {
   "cell_type": "markdown",
   "metadata": {},
   "source": [
    "## Import housing data and create df"
   ]
  },
  {
   "cell_type": "code",
   "execution_count": 200,
   "metadata": {},
   "outputs": [],
   "source": [
    "df = pd.read_csv(\"House3.csv\", names=[\"Y\",\"X1\",\"X2\",\"X3\",\"X4\",\"X5\"])[1:]\n",
    "df = df.astype(float)"
   ]
  },
  {
   "cell_type": "code",
   "execution_count": 201,
   "metadata": {},
   "outputs": [
    {
     "data": {
      "text/html": [
       "<div>\n",
       "<style scoped>\n",
       "    .dataframe tbody tr th:only-of-type {\n",
       "        vertical-align: middle;\n",
       "    }\n",
       "\n",
       "    .dataframe tbody tr th {\n",
       "        vertical-align: top;\n",
       "    }\n",
       "\n",
       "    .dataframe thead th {\n",
       "        text-align: right;\n",
       "    }\n",
       "</style>\n",
       "<table border=\"1\" class=\"dataframe\">\n",
       "  <thead>\n",
       "    <tr style=\"text-align: right;\">\n",
       "      <th></th>\n",
       "      <th>Y</th>\n",
       "      <th>X1</th>\n",
       "      <th>X2</th>\n",
       "      <th>X3</th>\n",
       "      <th>X4</th>\n",
       "      <th>X5</th>\n",
       "    </tr>\n",
       "  </thead>\n",
       "  <tbody>\n",
       "    <tr>\n",
       "      <th>1</th>\n",
       "      <td>550000.0</td>\n",
       "      <td>53.316730</td>\n",
       "      <td>-6.295232</td>\n",
       "      <td>3.0</td>\n",
       "      <td>2.0</td>\n",
       "      <td>108.0</td>\n",
       "    </tr>\n",
       "    <tr>\n",
       "      <th>2</th>\n",
       "      <td>550000.0</td>\n",
       "      <td>53.381435</td>\n",
       "      <td>-6.246925</td>\n",
       "      <td>3.0</td>\n",
       "      <td>2.0</td>\n",
       "      <td>175.0</td>\n",
       "    </tr>\n",
       "    <tr>\n",
       "      <th>3</th>\n",
       "      <td>250000.0</td>\n",
       "      <td>53.376805</td>\n",
       "      <td>-6.268684</td>\n",
       "      <td>2.0</td>\n",
       "      <td>1.0</td>\n",
       "      <td>52.0</td>\n",
       "    </tr>\n",
       "    <tr>\n",
       "      <th>4</th>\n",
       "      <td>345000.0</td>\n",
       "      <td>52.204043</td>\n",
       "      <td>0.104260</td>\n",
       "      <td>3.0</td>\n",
       "      <td>3.0</td>\n",
       "      <td>110.0</td>\n",
       "    </tr>\n",
       "    <tr>\n",
       "      <th>5</th>\n",
       "      <td>325000.0</td>\n",
       "      <td>53.333422</td>\n",
       "      <td>-6.291426</td>\n",
       "      <td>2.0</td>\n",
       "      <td>1.0</td>\n",
       "      <td>73.0</td>\n",
       "    </tr>\n",
       "  </tbody>\n",
       "</table>\n",
       "</div>"
      ],
      "text/plain": [
       "          Y         X1        X2   X3   X4     X5\n",
       "1  550000.0  53.316730 -6.295232  3.0  2.0  108.0\n",
       "2  550000.0  53.381435 -6.246925  3.0  2.0  175.0\n",
       "3  250000.0  53.376805 -6.268684  2.0  1.0   52.0\n",
       "4  345000.0  52.204043  0.104260  3.0  3.0  110.0\n",
       "5  325000.0  53.333422 -6.291426  2.0  1.0   73.0"
      ]
     },
     "execution_count": 201,
     "metadata": {},
     "output_type": "execute_result"
    }
   ],
   "source": [
    "df.head()"
   ]
  },
  {
   "cell_type": "code",
   "execution_count": 202,
   "metadata": {},
   "outputs": [],
   "source": [
    "def normalize(df):\n",
    "    result = df.copy()\n",
    "    for feature_name in df.columns:\n",
    "        max_value = df[feature_name].max()\n",
    "        min_value = df[feature_name].min()\n",
    "        result[feature_name] = (df[feature_name] - min_value) / (max_value - min_value)\n",
    "    return result"
   ]
  },
  {
   "cell_type": "code",
   "execution_count": 203,
   "metadata": {},
   "outputs": [],
   "source": [
    "df_norm = normalize(df).reset_index()"
   ]
  },
  {
   "cell_type": "code",
   "execution_count": 204,
   "metadata": {},
   "outputs": [
    {
     "data": {
      "text/html": [
       "<div>\n",
       "<style scoped>\n",
       "    .dataframe tbody tr th:only-of-type {\n",
       "        vertical-align: middle;\n",
       "    }\n",
       "\n",
       "    .dataframe tbody tr th {\n",
       "        vertical-align: top;\n",
       "    }\n",
       "\n",
       "    .dataframe thead th {\n",
       "        text-align: right;\n",
       "    }\n",
       "</style>\n",
       "<table border=\"1\" class=\"dataframe\">\n",
       "  <thead>\n",
       "    <tr style=\"text-align: right;\">\n",
       "      <th></th>\n",
       "      <th>index</th>\n",
       "      <th>Y</th>\n",
       "      <th>X1</th>\n",
       "      <th>X2</th>\n",
       "      <th>X3</th>\n",
       "      <th>X4</th>\n",
       "      <th>X5</th>\n",
       "    </tr>\n",
       "  </thead>\n",
       "  <tbody>\n",
       "    <tr>\n",
       "      <th>0</th>\n",
       "      <td>1</td>\n",
       "      <td>0.062944</td>\n",
       "      <td>0.972318</td>\n",
       "      <td>0.392971</td>\n",
       "      <td>0.058824</td>\n",
       "      <td>0.043478</td>\n",
       "      <td>0.065443</td>\n",
       "    </tr>\n",
       "    <tr>\n",
       "      <th>1</th>\n",
       "      <td>2</td>\n",
       "      <td>0.062944</td>\n",
       "      <td>0.972968</td>\n",
       "      <td>0.393135</td>\n",
       "      <td>0.058824</td>\n",
       "      <td>0.043478</td>\n",
       "      <td>0.106422</td>\n",
       "    </tr>\n",
       "    <tr>\n",
       "      <th>2</th>\n",
       "      <td>3</td>\n",
       "      <td>0.020986</td>\n",
       "      <td>0.972922</td>\n",
       "      <td>0.393061</td>\n",
       "      <td>0.029412</td>\n",
       "      <td>0.000000</td>\n",
       "      <td>0.031193</td>\n",
       "    </tr>\n",
       "    <tr>\n",
       "      <th>3</th>\n",
       "      <td>4</td>\n",
       "      <td>0.034272</td>\n",
       "      <td>0.961147</td>\n",
       "      <td>0.414681</td>\n",
       "      <td>0.058824</td>\n",
       "      <td>0.086957</td>\n",
       "      <td>0.066667</td>\n",
       "    </tr>\n",
       "    <tr>\n",
       "      <th>4</th>\n",
       "      <td>5</td>\n",
       "      <td>0.031475</td>\n",
       "      <td>0.972486</td>\n",
       "      <td>0.392984</td>\n",
       "      <td>0.029412</td>\n",
       "      <td>0.000000</td>\n",
       "      <td>0.044037</td>\n",
       "    </tr>\n",
       "    <tr>\n",
       "      <th>...</th>\n",
       "      <td>...</td>\n",
       "      <td>...</td>\n",
       "      <td>...</td>\n",
       "      <td>...</td>\n",
       "      <td>...</td>\n",
       "      <td>...</td>\n",
       "      <td>...</td>\n",
       "    </tr>\n",
       "    <tr>\n",
       "      <th>1461</th>\n",
       "      <td>1462</td>\n",
       "      <td>0.020986</td>\n",
       "      <td>0.973046</td>\n",
       "      <td>0.392965</td>\n",
       "      <td>0.029412</td>\n",
       "      <td>0.043478</td>\n",
       "      <td>0.053211</td>\n",
       "    </tr>\n",
       "    <tr>\n",
       "      <th>1462</th>\n",
       "      <td>1463</td>\n",
       "      <td>0.020979</td>\n",
       "      <td>0.972307</td>\n",
       "      <td>0.392946</td>\n",
       "      <td>0.029412</td>\n",
       "      <td>0.000000</td>\n",
       "      <td>0.067278</td>\n",
       "    </tr>\n",
       "    <tr>\n",
       "      <th>1463</th>\n",
       "      <td>1464</td>\n",
       "      <td>0.045461</td>\n",
       "      <td>0.973013</td>\n",
       "      <td>0.392570</td>\n",
       "      <td>0.088235</td>\n",
       "      <td>0.086957</td>\n",
       "      <td>0.084404</td>\n",
       "    </tr>\n",
       "    <tr>\n",
       "      <th>1464</th>\n",
       "      <td>1465</td>\n",
       "      <td>0.405599</td>\n",
       "      <td>0.972444</td>\n",
       "      <td>0.393188</td>\n",
       "      <td>0.088235</td>\n",
       "      <td>0.130435</td>\n",
       "      <td>0.159021</td>\n",
       "    </tr>\n",
       "    <tr>\n",
       "      <th>1465</th>\n",
       "      <td>1466</td>\n",
       "      <td>0.090915</td>\n",
       "      <td>0.972450</td>\n",
       "      <td>0.393041</td>\n",
       "      <td>0.058824</td>\n",
       "      <td>0.043478</td>\n",
       "      <td>0.072783</td>\n",
       "    </tr>\n",
       "  </tbody>\n",
       "</table>\n",
       "<p>1466 rows × 7 columns</p>\n",
       "</div>"
      ],
      "text/plain": [
       "      index         Y        X1        X2        X3        X4        X5\n",
       "0         1  0.062944  0.972318  0.392971  0.058824  0.043478  0.065443\n",
       "1         2  0.062944  0.972968  0.393135  0.058824  0.043478  0.106422\n",
       "2         3  0.020986  0.972922  0.393061  0.029412  0.000000  0.031193\n",
       "3         4  0.034272  0.961147  0.414681  0.058824  0.086957  0.066667\n",
       "4         5  0.031475  0.972486  0.392984  0.029412  0.000000  0.044037\n",
       "...     ...       ...       ...       ...       ...       ...       ...\n",
       "1461   1462  0.020986  0.973046  0.392965  0.029412  0.043478  0.053211\n",
       "1462   1463  0.020979  0.972307  0.392946  0.029412  0.000000  0.067278\n",
       "1463   1464  0.045461  0.973013  0.392570  0.088235  0.086957  0.084404\n",
       "1464   1465  0.405599  0.972444  0.393188  0.088235  0.130435  0.159021\n",
       "1465   1466  0.090915  0.972450  0.393041  0.058824  0.043478  0.072783\n",
       "\n",
       "[1466 rows x 7 columns]"
      ]
     },
     "execution_count": 204,
     "metadata": {},
     "output_type": "execute_result"
    }
   ],
   "source": [
    "df_norm"
   ]
  },
  {
   "cell_type": "code",
   "execution_count": 205,
   "metadata": {},
   "outputs": [],
   "source": [
    "X_raw = np.column_stack((df_norm.X1,df_norm.X2,df_norm.X3,df_norm.X4,df_norm.X5))\n",
    "y = df_norm.Y"
   ]
  },
  {
   "cell_type": "code",
   "execution_count": 206,
   "metadata": {},
   "outputs": [
    {
     "data": {
      "text/plain": [
       "array([[0.97231846, 0.39297093, 0.05882353, 0.04347826, 0.06544343],\n",
       "       [0.97296807, 0.39313482, 0.05882353, 0.04347826, 0.10642202],\n",
       "       [0.97292159, 0.393061  , 0.02941176, 0.        , 0.03119266],\n",
       "       ...,\n",
       "       [0.97301344, 0.39256979, 0.08823529, 0.08695652, 0.08440367],\n",
       "       [0.9724436 , 0.39318772, 0.08823529, 0.13043478, 0.15902141],\n",
       "       [0.97244968, 0.39304067, 0.05882353, 0.04347826, 0.07278287]])"
      ]
     },
     "execution_count": 206,
     "metadata": {},
     "output_type": "execute_result"
    }
   ],
   "source": [
    "X_raw"
   ]
  },
  {
   "cell_type": "markdown",
   "metadata": {},
   "source": [
    "## Create testing and training sets"
   ]
  },
  {
   "cell_type": "code",
   "execution_count": 207,
   "metadata": {},
   "outputs": [],
   "source": [
    "from sklearn.model_selection import train_test_split\n",
    "X_train, X_test, y_train, y_test = train_test_split(X_raw, y, test_size=0.2)"
   ]
  },
  {
   "cell_type": "code",
   "execution_count": 208,
   "metadata": {},
   "outputs": [],
   "source": [
    "from sklearn.linear_model import LinearRegression"
   ]
  },
  {
   "cell_type": "code",
   "execution_count": 209,
   "metadata": {},
   "outputs": [],
   "source": [
    "LinRegModel = LinearRegression().fit(X_train,y_train)"
   ]
  },
  {
   "cell_type": "code",
   "execution_count": 210,
   "metadata": {},
   "outputs": [],
   "source": [
    "from sklearn.model_selection import KFold\n",
    "from sklearn.metrics import mean_squared_error\n",
    "from sklearn.metrics import accuracy_score"
   ]
  },
  {
   "cell_type": "markdown",
   "metadata": {},
   "source": [
    "## Linear Regression Kfold check for MSE"
   ]
  },
  {
   "cell_type": "code",
   "execution_count": 211,
   "metadata": {},
   "outputs": [],
   "source": [
    "kf = KFold(n_splits=5)\n",
    "mean_error=[]\n",
    "std_error=[]\n",
    "acc_test = []\n",
    "mean_error_train = []\n",
    "std_error_train = []\n",
    "acc_train = []"
   ]
  },
  {
   "cell_type": "code",
   "execution_count": 212,
   "metadata": {},
   "outputs": [],
   "source": [
    "for i in range(5):\n",
    "    temp_test = []\n",
    "    temp_train = []\n",
    "    temp_acc_test = []\n",
    "    temp_acc_train = []\n",
    "    for train,test in kf.split(X_raw):\n",
    "        LinRegModel.fit(X_raw[train],y[train])\n",
    "        ypred = LinRegModel.predict(X_raw[test])\n",
    "        ypred_train = LinRegModel.predict(X_raw[train])\n",
    "        temp_test.append(mean_squared_error(y[test],ypred))\n",
    "        temp_train.append(mean_squared_error(y[train],ypred_train))\n",
    "        # temp_acc_test.append(accuracy_score(ypred,y[test]))\n",
    "        # temp_acc_train.append(accuracy_score(ypred_train,y[train]))\n",
    "    mean_error.append(np.array(temp_test).mean())\n",
    "    std_error.append(np.array(temp_test).std())\n",
    "    # acc_test.append(np.array(temp_acc_test).mean())\n",
    "    mean_error_train.append(np.array(temp_train).mean())\n",
    "    std_error_train.append(np.array(temp_train).mean())\n",
    "    # acc_train.append(np.array(temp_acc_train).mean())"
   ]
  },
  {
   "cell_type": "code",
   "execution_count": 213,
   "metadata": {},
   "outputs": [],
   "source": [
    "import matplotlib.pyplot as plt"
   ]
  },
  {
   "cell_type": "code",
   "execution_count": 214,
   "metadata": {},
   "outputs": [
    {
     "data": {
      "image/png": "[encoded data removed]",
      "text/plain": [
       "<Figure size 648x288 with 1 Axes>"
      ]
     },
     "metadata": {
      "needs_background": "light"
     },
     "output_type": "display_data"
    }
   ],
   "source": [
    "fig = plt.figure(figsize=(9,4))\n",
    "plt.errorbar(range(5),mean_error, yerr=std_error, label=\"Test Data\")\n",
    "plt.plot(range(5), mean_error_train, label=\"Training Data\", c=\"orange\")\n",
    "plt.xlabel(\"Values of $C$\")\n",
    "plt.ylabel(\"Mean Squared Error\")\n",
    "plt.title(\"Mean Squared Errors after 5-fold Cross Validation performed for various Lasso Models with different $C$\")\n",
    "plt.legend()\n",
    "plt.show()\n",
    "fig.savefig(\"q2ci.png\", bbox_inches=\"tight\")"
   ]
  },
  {
   "cell_type": "markdown",
   "metadata": {},
   "source": [
    "## Kfold Check for C in Lasso Models "
   ]
  },
  {
   "cell_type": "code",
   "execution_count": 231,
   "metadata": {},
   "outputs": [],
   "source": [
    "kf = KFold(n_splits=5)\n",
    "mean_error=[]\n",
    "std_error=[]\n",
    "mean_error_train = []\n",
    "std_error_train = []\n",
    "C_list = np.linspace(0.001,1000,80)"
   ]
  },
  {
   "cell_type": "code",
   "execution_count": 232,
   "metadata": {},
   "outputs": [],
   "source": [
    "for currC in C_list:\n",
    "    currModel = LassoClass(currC)\n",
    "    temp_test = []\n",
    "    temp_train = []\n",
    "    for train,test in kf.split(X_raw):\n",
    "        currModel.model.fit(X_raw[train],y[train])\n",
    "        ypred = currModel.model.predict(X_raw[test])\n",
    "        ypred_train = currModel.model.predict(X_raw[train])\n",
    "        temp_test.append(mean_squared_error(y[test],ypred))\n",
    "        temp_train.append(mean_squared_error(y[train],ypred_train))\n",
    "    mean_error.append(np.array(temp_test).mean())\n",
    "    std_error.append(np.array(temp_test).std())\n",
    "    mean_error_train.append(np.array(temp_train).mean())\n",
    "    std_error_train.append(np.array(temp_train).mean())"
   ]
  },
  {
   "cell_type": "code",
   "execution_count": 233,
   "metadata": {},
   "outputs": [
    {
     "data": {
      "image/png": "[encoded data removed]",
      "text/plain": [
       "<Figure size 648x288 with 1 Axes>"
      ]
     },
     "metadata": {
      "needs_background": "light"
     },
     "output_type": "display_data"
    }
   ],
   "source": [
    "fig = plt.figure(figsize=(9,4))\n",
    "plt.errorbar(C_list,mean_error, yerr=std_error, label=\"Test Data\")\n",
    "plt.plot(C_list,mean_error_train, label=\"Training Data\", c=\"orange\")\n",
    "plt.xlabel(\"Values of $C$\")\n",
    "plt.ylabel(\"Mean Squared Error\")\n",
    "plt.title(\"Mean Squared Errors after 5-fold Cross Validation performed for various Lasso Models with different $C$\")\n",
    "plt.legend()\n",
    "plt.show()\n",
    "fig.savefig(\"q2ci.png\", bbox_inches=\"tight\")\n"
   ]
  },
  {
   "cell_type": "markdown",
   "metadata": {},
   "source": [
    "## Kfold for C in Ridge Models"
   ]
  },
  {
   "cell_type": "code",
   "execution_count": 250,
   "metadata": {},
   "outputs": [],
   "source": [
    "kf = KFold(n_splits=5)\n",
    "mean_error=[]\n",
    "std_error=[]\n",
    "mean_error_train = []\n",
    "std_error_train = []\n",
    "C_list = np.linspace(0.1,2,20)"
   ]
  },
  {
   "cell_type": "code",
   "execution_count": 251,
   "metadata": {},
   "outputs": [],
   "source": [
    "for currC in C_list:\n",
    "    currModel = RidgeClass(currC)\n",
    "    temp_test = []\n",
    "    temp_train = []\n",
    "    for train,test in kf.split(X_raw):\n",
    "        currModel.model.fit(X_raw[train],y[train])\n",
    "        ypred = currModel.model.predict(X_raw[test])\n",
    "        ypred_train = currModel.model.predict(X_raw[train])\n",
    "        temp_test.append(mean_squared_error(y[test],ypred))\n",
    "        temp_train.append(mean_squared_error(y[train],ypred_train))\n",
    "    mean_error.append(np.array(temp_test).mean())\n",
    "    std_error.append(np.array(temp_test).std())\n",
    "    mean_error_train.append(np.array(temp_train).mean())\n",
    "    std_error_train.append(np.array(temp_train).mean())"
   ]
  },
  {
   "cell_type": "code",
   "execution_count": 252,
   "metadata": {},
   "outputs": [
    {
     "data": {
      "image/png": "[encoded data removed]",
      "text/plain": [
       "<Figure size 648x288 with 1 Axes>"
      ]
     },
     "metadata": {
      "needs_background": "light"
     },
     "output_type": "display_data"
    }
   ],
   "source": [
    "fig = plt.figure(figsize=(9,4))\n",
    "plt.errorbar(C_list,mean_error, yerr=std_error, label=\"Test Data\")\n",
    "plt.plot(C_list,mean_error_train, label=\"Training Data\")\n",
    "plt.xlabel(\"Values of $C$\")\n",
    "plt.ylabel(\"Mean Squared Error\")\n",
    "plt.title(\"Mean Squared Errors after 5-fold Cross Validation performed for various Ridge Models with different $C$\")\n",
    "plt.legend()\n",
    "plt.show()\n",
    "fig.savefig(\"q2a.png\", bbox_inches=\"tight\")"
   ]
  },
  {
   "cell_type": "code",
   "execution_count": null,
   "metadata": {},
   "outputs": [],
   "source": []
  }
 ],
 "metadata": {
  "interpreter": {
   "hash": "3810b6075fab458a94d8e40e83975177574c8fa8b05dcd886d2dd74a2b3ef09d"
  },
  "kernelspec": {
   "display_name": "Python 3.9.7 64-bit ('MLGroupProj': conda)",
   "language": "python",
   "name": "python3"
  },
  "language_info": {
   "codemirror_mode": {
    "name": "ipython",
    "version": 3
   },
   "file_extension": ".py",
   "mimetype": "text/x-python",
   "name": "python",
   "nbconvert_exporter": "python",
   "pygments_lexer": "ipython3",
   "version": "3.9.7"
  },
  "orig_nbformat": 4
 },
 "nbformat": 4,
 "nbformat_minor": 2
}
