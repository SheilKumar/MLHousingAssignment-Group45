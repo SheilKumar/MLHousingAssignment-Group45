{
 "cells": [
  {
   "cell_type": "code",
   "execution_count": 791,
   "metadata": {},
   "outputs": [],
   "source": [
    "import pandas as pd\n",
    "import numpy as np\n",
    "from ProjectUtils import LassoClass\n",
    "from ProjectUtils import RidgeClass"
   ]
  },
  {
   "cell_type": "markdown",
   "metadata": {},
   "source": [
    "## Import housing data and create df"
   ]
  },
  {
   "cell_type": "code",
   "execution_count": 792,
   "metadata": {},
   "outputs": [],
   "source": [
    "df = pd.read_csv(\"House3.csv\", names=[\"Y\",\"X1\",\"X2\",\"X3\",\"X4\",\"X5\"])[1:]\n",
    "df = df.astype(float)"
   ]
  },
  {
   "cell_type": "markdown",
   "metadata": {},
   "source": [
    "### Removing outliers"
   ]
  },
  {
   "cell_type": "code",
   "execution_count": 793,
   "metadata": {},
   "outputs": [],
   "source": [
    "from scipy.stats import zscore\n",
    "z_scores = zscore(df)\n",
    "abs_z_scores =  np.abs(z_scores)\n",
    "filtered_entries = (abs_z_scores < 3).all(axis=1)\n",
    "df = df[filtered_entries]"
   ]
  },
  {
   "cell_type": "code",
   "execution_count": 794,
   "metadata": {},
   "outputs": [
    {
     "data": {
      "text/html": [
       "<div>\n",
       "<style scoped>\n",
       "    .dataframe tbody tr th:only-of-type {\n",
       "        vertical-align: middle;\n",
       "    }\n",
       "\n",
       "    .dataframe tbody tr th {\n",
       "        vertical-align: top;\n",
       "    }\n",
       "\n",
       "    .dataframe thead th {\n",
       "        text-align: right;\n",
       "    }\n",
       "</style>\n",
       "<table border=\"1\" class=\"dataframe\">\n",
       "  <thead>\n",
       "    <tr style=\"text-align: right;\">\n",
       "      <th></th>\n",
       "      <th>Y</th>\n",
       "      <th>X1</th>\n",
       "      <th>X2</th>\n",
       "      <th>X3</th>\n",
       "      <th>X4</th>\n",
       "      <th>X5</th>\n",
       "    </tr>\n",
       "  </thead>\n",
       "  <tbody>\n",
       "    <tr>\n",
       "      <th>count</th>\n",
       "      <td>1.370000e+03</td>\n",
       "      <td>1370.000000</td>\n",
       "      <td>1370.000000</td>\n",
       "      <td>1370.000000</td>\n",
       "      <td>1370.000000</td>\n",
       "      <td>1370.000000</td>\n",
       "    </tr>\n",
       "    <tr>\n",
       "      <th>mean</th>\n",
       "      <td>4.880676e+05</td>\n",
       "      <td>51.822805</td>\n",
       "      <td>-10.331433</td>\n",
       "      <td>2.735766</td>\n",
       "      <td>1.807299</td>\n",
       "      <td>103.243796</td>\n",
       "    </tr>\n",
       "    <tr>\n",
       "      <th>std</th>\n",
       "      <td>2.908254e+05</td>\n",
       "      <td>5.818315</td>\n",
       "      <td>19.503032</td>\n",
       "      <td>1.017146</td>\n",
       "      <td>0.836148</td>\n",
       "      <td>43.702131</td>\n",
       "    </tr>\n",
       "    <tr>\n",
       "      <th>min</th>\n",
       "      <td>9.995000e+04</td>\n",
       "      <td>6.705378</td>\n",
       "      <td>-101.885162</td>\n",
       "      <td>1.000000</td>\n",
       "      <td>1.000000</td>\n",
       "      <td>1.000000</td>\n",
       "    </tr>\n",
       "    <tr>\n",
       "      <th>25%</th>\n",
       "      <td>2.950000e+05</td>\n",
       "      <td>53.281238</td>\n",
       "      <td>-6.339974</td>\n",
       "      <td>2.000000</td>\n",
       "      <td>1.000000</td>\n",
       "      <td>73.250000</td>\n",
       "    </tr>\n",
       "    <tr>\n",
       "      <th>50%</th>\n",
       "      <td>3.950000e+05</td>\n",
       "      <td>53.323845</td>\n",
       "      <td>-6.267481</td>\n",
       "      <td>3.000000</td>\n",
       "      <td>2.000000</td>\n",
       "      <td>104.000000</td>\n",
       "    </tr>\n",
       "    <tr>\n",
       "      <th>75%</th>\n",
       "      <td>5.800000e+05</td>\n",
       "      <td>53.368099</td>\n",
       "      <td>-6.186719</td>\n",
       "      <td>3.000000</td>\n",
       "      <td>2.000000</td>\n",
       "      <td>115.000000</td>\n",
       "    </tr>\n",
       "    <tr>\n",
       "      <th>max</th>\n",
       "      <td>2.150000e+06</td>\n",
       "      <td>55.952863</td>\n",
       "      <td>21.418868</td>\n",
       "      <td>7.000000</td>\n",
       "      <td>5.000000</td>\n",
       "      <td>319.000000</td>\n",
       "    </tr>\n",
       "  </tbody>\n",
       "</table>\n",
       "</div>"
      ],
      "text/plain": [
       "                  Y           X1           X2           X3           X4  \\\n",
       "count  1.370000e+03  1370.000000  1370.000000  1370.000000  1370.000000   \n",
       "mean   4.880676e+05    51.822805   -10.331433     2.735766     1.807299   \n",
       "std    2.908254e+05     5.818315    19.503032     1.017146     0.836148   \n",
       "min    9.995000e+04     6.705378  -101.885162     1.000000     1.000000   \n",
       "25%    2.950000e+05    53.281238    -6.339974     2.000000     1.000000   \n",
       "50%    3.950000e+05    53.323845    -6.267481     3.000000     2.000000   \n",
       "75%    5.800000e+05    53.368099    -6.186719     3.000000     2.000000   \n",
       "max    2.150000e+06    55.952863    21.418868     7.000000     5.000000   \n",
       "\n",
       "                X5  \n",
       "count  1370.000000  \n",
       "mean    103.243796  \n",
       "std      43.702131  \n",
       "min       1.000000  \n",
       "25%      73.250000  \n",
       "50%     104.000000  \n",
       "75%     115.000000  \n",
       "max     319.000000  "
      ]
     },
     "execution_count": 794,
     "metadata": {},
     "output_type": "execute_result"
    }
   ],
   "source": [
    "df.describe()"
   ]
  },
  {
   "cell_type": "code",
   "execution_count": 795,
   "metadata": {},
   "outputs": [],
   "source": [
    "def normalize(df):\n",
    "    result = df.copy()\n",
    "    for feature_name in df.columns:\n",
    "        max_value = df[feature_name].max()\n",
    "        min_value = df[feature_name].min()\n",
    "        result[feature_name] = (df[feature_name] - min_value) / (max_value - min_value)\n",
    "    return result"
   ]
  },
  {
   "cell_type": "code",
   "execution_count": 796,
   "metadata": {},
   "outputs": [],
   "source": [
    "df_norm = normalize(df).reset_index()"
   ]
  },
  {
   "cell_type": "code",
   "execution_count": 797,
   "metadata": {},
   "outputs": [
    {
     "data": {
      "text/html": [
       "<div>\n",
       "<style scoped>\n",
       "    .dataframe tbody tr th:only-of-type {\n",
       "        vertical-align: middle;\n",
       "    }\n",
       "\n",
       "    .dataframe tbody tr th {\n",
       "        vertical-align: top;\n",
       "    }\n",
       "\n",
       "    .dataframe thead th {\n",
       "        text-align: right;\n",
       "    }\n",
       "</style>\n",
       "<table border=\"1\" class=\"dataframe\">\n",
       "  <thead>\n",
       "    <tr style=\"text-align: right;\">\n",
       "      <th></th>\n",
       "      <th>index</th>\n",
       "      <th>Y</th>\n",
       "      <th>X1</th>\n",
       "      <th>X2</th>\n",
       "      <th>X3</th>\n",
       "      <th>X4</th>\n",
       "      <th>X5</th>\n",
       "    </tr>\n",
       "  </thead>\n",
       "  <tbody>\n",
       "    <tr>\n",
       "      <th>0</th>\n",
       "      <td>1</td>\n",
       "      <td>0.219531</td>\n",
       "      <td>0.946472</td>\n",
       "      <td>0.775238</td>\n",
       "      <td>0.333333</td>\n",
       "      <td>0.25</td>\n",
       "      <td>0.336478</td>\n",
       "    </tr>\n",
       "    <tr>\n",
       "      <th>1</th>\n",
       "      <td>2</td>\n",
       "      <td>0.219531</td>\n",
       "      <td>0.947786</td>\n",
       "      <td>0.775629</td>\n",
       "      <td>0.333333</td>\n",
       "      <td>0.25</td>\n",
       "      <td>0.547170</td>\n",
       "    </tr>\n",
       "    <tr>\n",
       "      <th>2</th>\n",
       "      <td>3</td>\n",
       "      <td>0.073193</td>\n",
       "      <td>0.947692</td>\n",
       "      <td>0.775453</td>\n",
       "      <td>0.166667</td>\n",
       "      <td>0.00</td>\n",
       "      <td>0.160377</td>\n",
       "    </tr>\n",
       "    <tr>\n",
       "      <th>3</th>\n",
       "      <td>4</td>\n",
       "      <td>0.119534</td>\n",
       "      <td>0.923878</td>\n",
       "      <td>0.827138</td>\n",
       "      <td>0.333333</td>\n",
       "      <td>0.50</td>\n",
       "      <td>0.342767</td>\n",
       "    </tr>\n",
       "    <tr>\n",
       "      <th>4</th>\n",
       "      <td>5</td>\n",
       "      <td>0.109778</td>\n",
       "      <td>0.946811</td>\n",
       "      <td>0.775269</td>\n",
       "      <td>0.166667</td>\n",
       "      <td>0.00</td>\n",
       "      <td>0.226415</td>\n",
       "    </tr>\n",
       "    <tr>\n",
       "      <th>...</th>\n",
       "      <td>...</td>\n",
       "      <td>...</td>\n",
       "      <td>...</td>\n",
       "      <td>...</td>\n",
       "      <td>...</td>\n",
       "      <td>...</td>\n",
       "      <td>...</td>\n",
       "    </tr>\n",
       "    <tr>\n",
       "      <th>1365</th>\n",
       "      <td>1461</td>\n",
       "      <td>0.121948</td>\n",
       "      <td>0.946740</td>\n",
       "      <td>0.775007</td>\n",
       "      <td>0.166667</td>\n",
       "      <td>0.25</td>\n",
       "      <td>0.345912</td>\n",
       "    </tr>\n",
       "    <tr>\n",
       "      <th>1366</th>\n",
       "      <td>1462</td>\n",
       "      <td>0.073193</td>\n",
       "      <td>0.947943</td>\n",
       "      <td>0.775224</td>\n",
       "      <td>0.166667</td>\n",
       "      <td>0.25</td>\n",
       "      <td>0.273585</td>\n",
       "    </tr>\n",
       "    <tr>\n",
       "      <th>1367</th>\n",
       "      <td>1463</td>\n",
       "      <td>0.073169</td>\n",
       "      <td>0.946449</td>\n",
       "      <td>0.775177</td>\n",
       "      <td>0.166667</td>\n",
       "      <td>0.00</td>\n",
       "      <td>0.345912</td>\n",
       "    </tr>\n",
       "    <tr>\n",
       "      <th>1368</th>\n",
       "      <td>1464</td>\n",
       "      <td>0.158557</td>\n",
       "      <td>0.947877</td>\n",
       "      <td>0.774279</td>\n",
       "      <td>0.500000</td>\n",
       "      <td>0.50</td>\n",
       "      <td>0.433962</td>\n",
       "    </tr>\n",
       "    <tr>\n",
       "      <th>1369</th>\n",
       "      <td>1466</td>\n",
       "      <td>0.317090</td>\n",
       "      <td>0.946737</td>\n",
       "      <td>0.775404</td>\n",
       "      <td>0.333333</td>\n",
       "      <td>0.25</td>\n",
       "      <td>0.374214</td>\n",
       "    </tr>\n",
       "  </tbody>\n",
       "</table>\n",
       "<p>1370 rows × 7 columns</p>\n",
       "</div>"
      ],
      "text/plain": [
       "      index         Y        X1        X2        X3    X4        X5\n",
       "0         1  0.219531  0.946472  0.775238  0.333333  0.25  0.336478\n",
       "1         2  0.219531  0.947786  0.775629  0.333333  0.25  0.547170\n",
       "2         3  0.073193  0.947692  0.775453  0.166667  0.00  0.160377\n",
       "3         4  0.119534  0.923878  0.827138  0.333333  0.50  0.342767\n",
       "4         5  0.109778  0.946811  0.775269  0.166667  0.00  0.226415\n",
       "...     ...       ...       ...       ...       ...   ...       ...\n",
       "1365   1461  0.121948  0.946740  0.775007  0.166667  0.25  0.345912\n",
       "1366   1462  0.073193  0.947943  0.775224  0.166667  0.25  0.273585\n",
       "1367   1463  0.073169  0.946449  0.775177  0.166667  0.00  0.345912\n",
       "1368   1464  0.158557  0.947877  0.774279  0.500000  0.50  0.433962\n",
       "1369   1466  0.317090  0.946737  0.775404  0.333333  0.25  0.374214\n",
       "\n",
       "[1370 rows x 7 columns]"
      ]
     },
     "execution_count": 797,
     "metadata": {},
     "output_type": "execute_result"
    }
   ],
   "source": [
    "df_norm"
   ]
  },
  {
   "cell_type": "code",
   "execution_count": 798,
   "metadata": {},
   "outputs": [],
   "source": [
    "X_raw = np.column_stack((df_norm.X1,df_norm.X2,df_norm.X3,df_norm.X4,df_norm.X5))\n",
    "y = df_norm.Y"
   ]
  },
  {
   "cell_type": "code",
   "execution_count": 799,
   "metadata": {},
   "outputs": [
    {
     "data": {
      "text/plain": [
       "array([[0.94647172, 0.77523768, 0.33333333, 0.25      , 0.33647799],\n",
       "       [0.94778558, 0.77562945, 0.33333333, 0.25      , 0.54716981],\n",
       "       [0.94769157, 0.77545298, 0.16666667, 0.        , 0.16037736],\n",
       "       ...,\n",
       "       [0.94644873, 0.77517746, 0.16666667, 0.        , 0.34591195],\n",
       "       [0.94787734, 0.77427871, 0.5       , 0.5       , 0.43396226],\n",
       "       [0.94673711, 0.77540439, 0.33333333, 0.25      , 0.37421384]])"
      ]
     },
     "execution_count": 799,
     "metadata": {},
     "output_type": "execute_result"
    }
   ],
   "source": [
    "X_raw"
   ]
  },
  {
   "cell_type": "markdown",
   "metadata": {},
   "source": [
    "## Create testing and training sets"
   ]
  },
  {
   "cell_type": "code",
   "execution_count": 800,
   "metadata": {},
   "outputs": [],
   "source": [
    "from sklearn.model_selection import train_test_split\n",
    "X_train, X_test, y_train, y_test = train_test_split(X_raw, y, test_size=0.2)"
   ]
  },
  {
   "cell_type": "code",
   "execution_count": 801,
   "metadata": {},
   "outputs": [],
   "source": [
    "from sklearn.linear_model import LinearRegression"
   ]
  },
  {
   "cell_type": "code",
   "execution_count": 802,
   "metadata": {},
   "outputs": [],
   "source": [
    "LinRegModel = LinearRegression()"
   ]
  },
  {
   "cell_type": "code",
   "execution_count": 803,
   "metadata": {},
   "outputs": [],
   "source": [
    "from sklearn.model_selection import KFold\n",
    "from sklearn.metrics import mean_squared_error\n",
    "from sklearn.metrics import r2_score"
   ]
  },
  {
   "cell_type": "markdown",
   "metadata": {},
   "source": [
    "## Linear Regression Kfold check for MSE"
   ]
  },
  {
   "cell_type": "code",
   "execution_count": 804,
   "metadata": {},
   "outputs": [],
   "source": [
    "kf = KFold(n_splits=5)\n",
    "mean_error=[]\n",
    "std_error=[]\n",
    "r2_test = []\n",
    "mean_error_train = []\n",
    "std_error_train = []\n",
    "r2_train = []"
   ]
  },
  {
   "cell_type": "code",
   "execution_count": 805,
   "metadata": {},
   "outputs": [],
   "source": [
    "temp_test= []\n",
    "temp_train = []\n",
    "temp_r2_test = []\n",
    "temp_r2_train = []\n",
    "for train,test in kf.split(X_raw):\n",
    "    LinRegModel.fit(X_raw[train],y[train])\n",
    "    ypred = LinRegModel.predict(X_raw[test])\n",
    "    ypred_train = LinRegModel.predict(X_raw[train])\n",
    "    temp_test.append(mean_squared_error(y[test],ypred))\n",
    "    temp_train.append(mean_squared_error(y[train],ypred_train))\n",
    "    temp_r2_test.append(r2_score(ypred,y[test]))\n",
    "    temp_r2_train.append(r2_score(ypred_train,y[train]))\n",
    "mean_error.append(np.array(temp_test).mean())\n",
    "std_error.append(np.array(temp_test).std())\n",
    "r2_test.append(np.array(temp_r2_test).mean())\n",
    "mean_error_train.append(np.array(temp_train).mean())\n",
    "std_error_train.append(np.array(temp_train).mean())\n",
    "r2_train.append(np.array(temp_r2_train).mean())"
   ]
  },
  {
   "cell_type": "code",
   "execution_count": 806,
   "metadata": {},
   "outputs": [
    {
     "name": "stdout",
     "output_type": "stream",
     "text": [
      "0.008825182660840179 0.008777052477712353 0.2064849750703818\n"
     ]
    }
   ],
   "source": [
    "import matplotlib.pyplot as plt\n",
    "print(min(mean_error), min(mean_error_train), max(r2_test))"
   ]
  },
  {
   "cell_type": "code",
   "execution_count": 807,
   "metadata": {},
   "outputs": [],
   "source": [
    "# fig = plt.figure(figsize=(9,4))\n",
    "# plt.errorbar(range(5),mean_error, yerr=std_error, label=\"Test Data\")\n",
    "# plt.plot(range(5), mean_error_train, label=\"Training Data\", c=\"orange\")\n",
    "# plt.xlabel(\"Values of $C$\")\n",
    "# plt.ylabel(\"Mean Squared Error\")\n",
    "# plt.title(\"Mean Squared Errors after 5-fold Cross Validation performed for various Lasso Models with different $C$\")\n",
    "# plt.legend()\n",
    "# plt.show()\n",
    "# fig.savefig(\"q2ci.png\", bbox_inches=\"tight\")"
   ]
  },
  {
   "cell_type": "markdown",
   "metadata": {},
   "source": [
    "## Kfold Check for C in Lasso Models "
   ]
  },
  {
   "cell_type": "code",
   "execution_count": 808,
   "metadata": {},
   "outputs": [],
   "source": [
    "kf = KFold(n_splits=5)\n",
    "mean_error=[]\n",
    "std_error=[]\n",
    "r2_test = []\n",
    "mean_error_train = []\n",
    "std_error_train = []\n",
    "r2_train = []\n",
    "C_list = np.linspace(0.001,1000,80)"
   ]
  },
  {
   "cell_type": "code",
   "execution_count": 809,
   "metadata": {},
   "outputs": [],
   "source": [
    "for currC in C_list:\n",
    "    currModel = LassoClass(currC)\n",
    "    temp_test = []\n",
    "    temp_train = []\n",
    "    temp_r2_test = []\n",
    "    temp_r2_train = []  \n",
    "    for train,test in kf.split(X_raw):\n",
    "        currModel.model.fit(X_raw[train],y[train])\n",
    "        ypred = currModel.model.predict(X_raw[test])\n",
    "        ypred_train = currModel.model.predict(X_raw[train])\n",
    "        temp_test.append(mean_squared_error(y[test],ypred))\n",
    "        temp_train.append(mean_squared_error(y[train],ypred_train))\n",
    "        temp_r2_test.append(r2_score(ypred,y[test]))\n",
    "        temp_r2_train.append(r2_score(ypred_train,y[train]))\n",
    "    mean_error.append(np.array(temp_test).mean())\n",
    "    std_error.append(np.array(temp_test).std())\n",
    "    r2_test.append(np.array(temp_r2_test).mean())\n",
    "    mean_error_train.append(np.array(temp_train).mean())\n",
    "    std_error_train.append(np.array(temp_train).mean())\n",
    "    r2_train.append(np.array(temp_r2_train).mean())"
   ]
  },
  {
   "cell_type": "code",
   "execution_count": 810,
   "metadata": {},
   "outputs": [
    {
     "name": "stdout",
     "output_type": "stream",
     "text": [
      "0.008863932305603343 0.008819452538179093 1000.0 0.14243009194104703\n"
     ]
    }
   ],
   "source": [
    "print(min(mean_error), min(mean_error_train), C_list[mean_error.index(min(mean_error))], max(r2_test))"
   ]
  },
  {
   "cell_type": "code",
   "execution_count": 811,
   "metadata": {},
   "outputs": [
    {
     "data": {
      "image/png": "[encoded data removed]",
      "text/plain": [
       "<Figure size 648x288 with 1 Axes>"
      ]
     },
     "metadata": {
      "needs_background": "light"
     },
     "output_type": "display_data"
    }
   ],
   "source": [
    "fig = plt.figure(figsize=(9,4))\n",
    "plt.errorbar(C_list,mean_error, yerr=std_error, label=\"Test Data\")\n",
    "plt.plot(C_list,mean_error_train, label=\"Training Data\", c=\"orange\")\n",
    "plt.xlabel(\"Values of $C$\")\n",
    "plt.ylabel(\"Mean Squared Error\")\n",
    "plt.title(\"Mean Squared Errors after 5-fold Cross Validation performed for various Lasso Models with different $C$\")\n",
    "plt.legend()\n",
    "plt.show()\n",
    "fig.savefig(\"q2ci.png\", bbox_inches=\"tight\")\n"
   ]
  },
  {
   "cell_type": "markdown",
   "metadata": {},
   "source": [
    "## Kfold for C in Ridge Models"
   ]
  },
  {
   "cell_type": "code",
   "execution_count": 812,
   "metadata": {},
   "outputs": [],
   "source": [
    "kf = KFold(n_splits=5)\n",
    "mean_error=[]\n",
    "std_error=[]\n",
    "mean_error_train = []\n",
    "std_error_train = []\n",
    "C_list = np.linspace(0.1,2,20)"
   ]
  },
  {
   "cell_type": "code",
   "execution_count": 813,
   "metadata": {},
   "outputs": [],
   "source": [
    "for currC in C_list:\n",
    "    currModel = RidgeClass(currC)\n",
    "    temp_test = []\n",
    "    temp_train = []\n",
    "    for train,test in kf.split(X_raw):\n",
    "        currModel.model.fit(X_raw[train],y[train])\n",
    "        ypred = currModel.model.predict(X_raw[test])\n",
    "        ypred_train = currModel.model.predict(X_raw[train])\n",
    "        temp_test.append(mean_squared_error(y[test],ypred))\n",
    "        temp_train.append(mean_squared_error(y[train],ypred_train))\n",
    "    mean_error.append(np.array(temp_test).mean())\n",
    "    std_error.append(np.array(temp_test).std())\n",
    "    mean_error_train.append(np.array(temp_train).mean())\n",
    "    std_error_train.append(np.array(temp_train).mean())"
   ]
  },
  {
   "cell_type": "code",
   "execution_count": 814,
   "metadata": {},
   "outputs": [
    {
     "name": "stdout",
     "output_type": "stream",
     "text": [
      "0.008827939596069343 0.008779515735985777 2.0\n"
     ]
    }
   ],
   "source": [
    "print(min(mean_error), min(mean_error_train), C_list[mean_error.index(min(mean_error))])"
   ]
  },
  {
   "cell_type": "code",
   "execution_count": 815,
   "metadata": {},
   "outputs": [
    {
     "data": {
      "image/png": "[encoded data removed]",
      "text/plain": [
       "<Figure size 648x288 with 1 Axes>"
      ]
     },
     "metadata": {
      "needs_background": "light"
     },
     "output_type": "display_data"
    }
   ],
   "source": [
    "fig = plt.figure(figsize=(9,4))\n",
    "plt.errorbar(C_list,mean_error, yerr=std_error, label=\"Test Data\")\n",
    "plt.plot(C_list,mean_error_train, label=\"Training Data\")\n",
    "plt.xlabel(\"Values of $C$\")\n",
    "plt.ylabel(\"Mean Squared Error\")\n",
    "plt.title(\"Mean Squared Errors after 5-fold Cross Validation performed for various Ridge Models with different $C$\")\n",
    "plt.legend()\n",
    "plt.show()\n",
    "fig.savefig(\"q2a.png\", bbox_inches=\"tight\")"
   ]
  },
  {
   "cell_type": "markdown",
   "metadata": {},
   "source": [
    "## Dummy Regressor (Mean Strategy)"
   ]
  },
  {
   "cell_type": "code",
   "execution_count": 816,
   "metadata": {},
   "outputs": [],
   "source": [
    "from sklearn.dummy import DummyRegressor"
   ]
  },
  {
   "cell_type": "code",
   "execution_count": 817,
   "metadata": {},
   "outputs": [],
   "source": [
    "dummyReg = DummyRegressor(strategy=\"mean\")\n",
    "kf = KFold(n_splits=5)\n",
    "mean_error=[]\n",
    "std_error=[]\n",
    "mean_error_train = []\n",
    "std_error_train = []\n",
    "for train,test in kf.split(X_raw):\n",
    "    dummyReg.fit(X_raw[train],y[train])\n",
    "    ypred = dummyReg.predict(X_raw[test])\n",
    "    ypred_train = dummyReg.predict(X_raw[train])\n",
    "    temp_test.append(mean_squared_error(y[test],ypred))\n",
    "    temp_train.append(mean_squared_error(y[train],ypred_train))\n",
    "mean_error.append(np.array(temp_test).mean())\n",
    "std_error.append(np.array(temp_test).std())\n",
    "mean_error_train.append(np.array(temp_train).mean())\n",
    "std_error_train.append(np.array(temp_train).mean())"
   ]
  },
  {
   "cell_type": "code",
   "execution_count": 818,
   "metadata": {},
   "outputs": [
    {
     "name": "stdout",
     "output_type": "stream",
     "text": [
      "0.014515244730665039 0.014439782118432174\n"
     ]
    }
   ],
   "source": [
    "print(min(mean_error), min(mean_error_train))"
   ]
  },
  {
   "cell_type": "code",
   "execution_count": null,
   "metadata": {},
   "outputs": [],
   "source": []
  }
 ],
 "metadata": {
  "interpreter": {
   "hash": "3810b6075fab458a94d8e40e83975177574c8fa8b05dcd886d2dd74a2b3ef09d"
  },
  "kernelspec": {
   "display_name": "Python 3.9.7 64-bit ('MLGroupProj': conda)",
   "language": "python",
   "name": "python3"
  },
  "language_info": {
   "codemirror_mode": {
    "name": "ipython",
    "version": 3
   },
   "file_extension": ".py",
   "mimetype": "text/x-python",
   "name": "python",
   "nbconvert_exporter": "python",
   "pygments_lexer": "ipython3",
   "version": "3.9.7"
  },
  "orig_nbformat": 4
 },
 "nbformat": 4,
 "nbformat_minor": 2
}
